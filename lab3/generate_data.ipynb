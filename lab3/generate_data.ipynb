{
 "cells": [
  {
   "cell_type": "code",
   "execution_count": 1,
   "metadata": {},
   "outputs": [],
   "source": [
    "import pandas as pd\n",
    "import numpy as np\n",
    "import random\n",
    "\n",
    "from tqdm.notebook import tqdm"
   ]
  },
  {
   "cell_type": "code",
   "execution_count": 2,
   "metadata": {
    "scrolled": true
   },
   "outputs": [],
   "source": [
    "from geopy.distance import geodesic"
   ]
  },
  {
   "cell_type": "code",
   "execution_count": 3,
   "metadata": {},
   "outputs": [],
   "source": [
    "import warnings\n",
    "warnings.filterwarnings('ignore')"
   ]
  },
  {
   "cell_type": "code",
   "execution_count": 4,
   "metadata": {},
   "outputs": [],
   "source": [
    "df = pd.read_csv(\"London postcodes.csv\", delimiter=',')"
   ]
  },
  {
   "cell_type": "code",
   "execution_count": 5,
   "metadata": {},
   "outputs": [
    {
     "data": {
      "text/plain": "(314746, 29)"
     },
     "execution_count": 5,
     "metadata": {},
     "output_type": "execute_result"
    }
   ],
   "source": [
    "df.shape"
   ]
  },
  {
   "cell_type": "code",
   "execution_count": 6,
   "metadata": {},
   "outputs": [
    {
     "data": {
      "text/plain": "  Postcode In Use?   Latitude  Longitude  Easting  Northing   GridRef  \\\n0  BR1 1AA     Yes  51.401546   0.015415   540291    168873  TQ402688   \n1  BR1 1AB     Yes  51.406333   0.015208   540262    169405  TQ402694   \n2  BR1 1AD     Yes  51.400057   0.016715   540386    168710  TQ403687   \n3  BR1 1AE     Yes  51.404543   0.014195   540197    169204  TQ401692   \n4  BR1 1AF     Yes  51.401392   0.014948   540259    168855  TQ402688   \n\n           County District          Ward  ... Population Households  \\\n0  Greater London  Bromley  Bromley Town  ...        NaN        NaN   \n1  Greater London  Bromley  Bromley Town  ...        NaN        NaN   \n2  Greater London  Bromley  Bromley Town  ...        NaN        NaN   \n3  Greater London  Bromley  Bromley Town  ...       34.0       21.0   \n4  Greater London  Bromley  Bromley Town  ...        NaN        NaN   \n\n    Built up area Built up sub-division Lower layer super output area  \\\n0  Greater London               Bromley                  Bromley 018B   \n1  Greater London               Bromley                  Bromley 008B   \n2  Greater London               Bromley                  Bromley 018B   \n3  Greater London               Bromley                  Bromley 018C   \n4  Greater London               Bromley                  Bromley 018B   \n\n               Rural/urban  Region Altitude  London zone  LSOA Code  \n0  Urban major conurbation  London       71          5.0  E01000675  \n1  Urban major conurbation  London       71          4.0  E01000676  \n2  Urban major conurbation  London       53          5.0  E01000675  \n3  Urban major conurbation  London       71          4.0  E01000677  \n4  Urban major conurbation  London       58          5.0  E01000675  \n\n[5 rows x 29 columns]",
      "text/html": "<div>\n<style scoped>\n    .dataframe tbody tr th:only-of-type {\n        vertical-align: middle;\n    }\n\n    .dataframe tbody tr th {\n        vertical-align: top;\n    }\n\n    .dataframe thead th {\n        text-align: right;\n    }\n</style>\n<table border=\"1\" class=\"dataframe\">\n  <thead>\n    <tr style=\"text-align: right;\">\n      <th></th>\n      <th>Postcode</th>\n      <th>In Use?</th>\n      <th>Latitude</th>\n      <th>Longitude</th>\n      <th>Easting</th>\n      <th>Northing</th>\n      <th>GridRef</th>\n      <th>County</th>\n      <th>District</th>\n      <th>Ward</th>\n      <th>...</th>\n      <th>Population</th>\n      <th>Households</th>\n      <th>Built up area</th>\n      <th>Built up sub-division</th>\n      <th>Lower layer super output area</th>\n      <th>Rural/urban</th>\n      <th>Region</th>\n      <th>Altitude</th>\n      <th>London zone</th>\n      <th>LSOA Code</th>\n    </tr>\n  </thead>\n  <tbody>\n    <tr>\n      <th>0</th>\n      <td>BR1 1AA</td>\n      <td>Yes</td>\n      <td>51.401546</td>\n      <td>0.015415</td>\n      <td>540291</td>\n      <td>168873</td>\n      <td>TQ402688</td>\n      <td>Greater London</td>\n      <td>Bromley</td>\n      <td>Bromley Town</td>\n      <td>...</td>\n      <td>NaN</td>\n      <td>NaN</td>\n      <td>Greater London</td>\n      <td>Bromley</td>\n      <td>Bromley 018B</td>\n      <td>Urban major conurbation</td>\n      <td>London</td>\n      <td>71</td>\n      <td>5.0</td>\n      <td>E01000675</td>\n    </tr>\n    <tr>\n      <th>1</th>\n      <td>BR1 1AB</td>\n      <td>Yes</td>\n      <td>51.406333</td>\n      <td>0.015208</td>\n      <td>540262</td>\n      <td>169405</td>\n      <td>TQ402694</td>\n      <td>Greater London</td>\n      <td>Bromley</td>\n      <td>Bromley Town</td>\n      <td>...</td>\n      <td>NaN</td>\n      <td>NaN</td>\n      <td>Greater London</td>\n      <td>Bromley</td>\n      <td>Bromley 008B</td>\n      <td>Urban major conurbation</td>\n      <td>London</td>\n      <td>71</td>\n      <td>4.0</td>\n      <td>E01000676</td>\n    </tr>\n    <tr>\n      <th>2</th>\n      <td>BR1 1AD</td>\n      <td>Yes</td>\n      <td>51.400057</td>\n      <td>0.016715</td>\n      <td>540386</td>\n      <td>168710</td>\n      <td>TQ403687</td>\n      <td>Greater London</td>\n      <td>Bromley</td>\n      <td>Bromley Town</td>\n      <td>...</td>\n      <td>NaN</td>\n      <td>NaN</td>\n      <td>Greater London</td>\n      <td>Bromley</td>\n      <td>Bromley 018B</td>\n      <td>Urban major conurbation</td>\n      <td>London</td>\n      <td>53</td>\n      <td>5.0</td>\n      <td>E01000675</td>\n    </tr>\n    <tr>\n      <th>3</th>\n      <td>BR1 1AE</td>\n      <td>Yes</td>\n      <td>51.404543</td>\n      <td>0.014195</td>\n      <td>540197</td>\n      <td>169204</td>\n      <td>TQ401692</td>\n      <td>Greater London</td>\n      <td>Bromley</td>\n      <td>Bromley Town</td>\n      <td>...</td>\n      <td>34.0</td>\n      <td>21.0</td>\n      <td>Greater London</td>\n      <td>Bromley</td>\n      <td>Bromley 018C</td>\n      <td>Urban major conurbation</td>\n      <td>London</td>\n      <td>71</td>\n      <td>4.0</td>\n      <td>E01000677</td>\n    </tr>\n    <tr>\n      <th>4</th>\n      <td>BR1 1AF</td>\n      <td>Yes</td>\n      <td>51.401392</td>\n      <td>0.014948</td>\n      <td>540259</td>\n      <td>168855</td>\n      <td>TQ402688</td>\n      <td>Greater London</td>\n      <td>Bromley</td>\n      <td>Bromley Town</td>\n      <td>...</td>\n      <td>NaN</td>\n      <td>NaN</td>\n      <td>Greater London</td>\n      <td>Bromley</td>\n      <td>Bromley 018B</td>\n      <td>Urban major conurbation</td>\n      <td>London</td>\n      <td>58</td>\n      <td>5.0</td>\n      <td>E01000675</td>\n    </tr>\n  </tbody>\n</table>\n<p>5 rows × 29 columns</p>\n</div>"
     },
     "execution_count": 6,
     "metadata": {},
     "output_type": "execute_result"
    }
   ],
   "source": [
    "df.head()"
   ]
  },
  {
   "cell_type": "code",
   "execution_count": 7,
   "metadata": {},
   "outputs": [
    {
     "data": {
      "text/plain": "Index(['Postcode', 'In Use?', 'Latitude', 'Longitude', 'Easting', 'Northing',\n       'GridRef', 'County', 'District', 'Ward', 'DistrictCode', 'WardCode',\n       'Country', 'CountyCode', 'Constituency', 'Introduced', 'Terminated',\n       'Parish', 'NationalPark', 'Population', 'Households', 'Built up area',\n       'Built up sub-division', 'Lower layer super output area', 'Rural/urban',\n       'Region', 'Altitude', 'London zone', 'LSOA Code'],\n      dtype='object')"
     },
     "execution_count": 7,
     "metadata": {},
     "output_type": "execute_result"
    }
   ],
   "source": [
    "df.columns"
   ]
  },
  {
   "cell_type": "code",
   "execution_count": 8,
   "metadata": {},
   "outputs": [],
   "source": [
    "rides = pd.DataFrame(columns=['driver_id', 'client_id',\\\n",
    "                              'start', 'start_latitude', 'start_longtitude', \\\n",
    "                              'finish', 'finish_latitude', 'finish_longtitude', \\\n",
    "                              'distance', 'road_time', 'start_time', 'finish_time', 'cost', \\\n",
    "                              'driver_rate', 'category_driver_feedback', 'text_driver_feedback',\\\n",
    "                             'client_rate', 'category_client_feedback', 'text_client_feedback'])\n",
    "NUM_RIDES = 5000000"
   ]
  },
  {
   "cell_type": "markdown",
   "metadata": {},
   "source": [
    "Drivers and clients id's"
   ]
  },
  {
   "cell_type": "code",
   "execution_count": 9,
   "metadata": {},
   "outputs": [],
   "source": [
    "rides['driver_id'] = np.random.randint(low=0, high=2500, size=NUM_RIDES)\n",
    "rides['client_id'] = np.random.randint(low=0, high=4500, size=NUM_RIDES)"
   ]
  },
  {
   "cell_type": "markdown",
   "metadata": {},
   "source": [
    "Start and finish points"
   ]
  },
  {
   "cell_type": "code",
   "execution_count": 10,
   "metadata": {},
   "outputs": [],
   "source": [
    "rides[['start', 'start_latitude', 'start_longtitude']] = df[['Postcode', 'Latitude', 'Longitude']].sample(n=NUM_RIDES, replace=True).reset_index(drop=True)"
   ]
  },
  {
   "cell_type": "code",
   "execution_count": 11,
   "metadata": {},
   "outputs": [],
   "source": [
    "rides[['finish', 'finish_latitude', 'finish_longtitude']] = df[['Postcode', 'Latitude', 'Longitude']].sample(n=NUM_RIDES, replace=True).reset_index(drop=True)"
   ]
  },
  {
   "cell_type": "markdown",
   "metadata": {},
   "source": [
    "Start time"
   ]
  },
  {
   "cell_type": "code",
   "execution_count": 12,
   "metadata": {},
   "outputs": [],
   "source": [
    "def random_dates(start, end, n=10):\n",
    "    start_u = start.value//10**9\n",
    "    end_u = end.value//10**9\n",
    "    return pd.to_datetime(np.random.randint(start_u, end_u, n), unit='s')\n",
    "\n",
    "start = pd.to_datetime('2010-01-01')\n",
    "end = pd.to_datetime('2020-01-01')\n",
    "rides['start_time'] = random_dates(start, end, NUM_RIDES)"
   ]
  },
  {
   "cell_type": "markdown",
   "metadata": {},
   "source": [
    "Distance between start and finish points"
   ]
  },
  {
   "cell_type": "code",
   "execution_count": 13,
   "metadata": {},
   "outputs": [
    {
     "data": {
      "text/plain": "  0%|          | 0/5000000 [00:00<?, ?it/s]",
      "application/vnd.jupyter.widget-view+json": {
       "version_major": 2,
       "version_minor": 0,
       "model_id": "c47eeee2e9ff40aa9530bdb95a3cc260"
      }
     },
     "metadata": {},
     "output_type": "display_data"
    }
   ],
   "source": [
    "rides['distance'] = [geodesic((x1, y1), (x2, y2)).km for x1, y1, x2, y2 in tqdm(zip(rides['start_latitude'], \\\n",
    "                                                                                              rides['start_longtitude'], \\\n",
    "                                                                                              rides['finish_latitude'], \\\n",
    "                                                                                              rides['finish_longtitude']), total=NUM_RIDES)]\n",
    "rides['distance'] = rides['distance'].round(2)"
   ]
  },
  {
   "cell_type": "markdown",
   "metadata": {},
   "source": [
    "Calculate road time"
   ]
  },
  {
   "cell_type": "code",
   "execution_count": 14,
   "metadata": {},
   "outputs": [],
   "source": [
    "rides['road_time'] = abs(np.random.normal(size=NUM_RIDES, scale=10)) + rides['distance'] * abs(np.random.normal(size=NUM_RIDES, loc=1, scale=0.25))\n",
    "rides['road_time'] = rides['road_time'].astype('int')\n",
    "rides['road_time'] = pd.to_timedelta(rides['road_time'], unit='m')"
   ]
  },
  {
   "cell_type": "markdown",
   "metadata": {},
   "source": [
    "Calculate finish time"
   ]
  },
  {
   "cell_type": "code",
   "execution_count": 15,
   "metadata": {},
   "outputs": [],
   "source": [
    "rides['finish_time'] = rides['start_time'] + rides['road_time']"
   ]
  },
  {
   "cell_type": "markdown",
   "metadata": {},
   "source": [
    "Calculate cost of the ride"
   ]
  },
  {
   "cell_type": "code",
   "execution_count": 16,
   "metadata": {},
   "outputs": [
    {
     "data": {
      "text/plain": "  0%|          | 0/5000000 [00:00<?, ?it/s]",
      "application/vnd.jupyter.widget-view+json": {
       "version_major": 2,
       "version_minor": 0,
       "model_id": "23d8d00dc22b4ae0992d3a6d344effc4"
      }
     },
     "metadata": {},
     "output_type": "display_data"
    }
   ],
   "source": [
    "def count_cost(start_time, distance):\n",
    "    cost = 2 + 0.5 * distance\n",
    "    if (start_time.hour >= 8 and start_time.hour <= 9) or \\\n",
    "        (start_time.hour >= 18 and start_time.hour <= 19):\n",
    "        cost *= 1.5\n",
    "    if (start_time.hour >= 22 or start_time.hour <= 6):\n",
    "        cost *= 1.3\n",
    "    return cost\n",
    "    \n",
    "rides['cost'] = [count_cost(s, d) for s, d in tqdm(zip(rides.start_time, rides.distance), total=NUM_RIDES)]\n",
    "rides['cost'] = rides['cost'].round(2)"
   ]
  },
  {
   "cell_type": "markdown",
   "metadata": {},
   "source": [
    "Drivers rates"
   ]
  },
  {
   "cell_type": "code",
   "execution_count": 17,
   "metadata": {},
   "outputs": [],
   "source": [
    "driver_rate_idx = np.random.randint(low=0, high=NUM_RIDES, size=int(NUM_RIDES*0.3))\n",
    "driver_rate_distribution_arr = np.random.multinomial(1, [0.2, 0.05, 0.1, 0.25, 0.4], size=int(NUM_RIDES*0.3))\n",
    "rides['driver_rate'][driver_rate_idx] = np.where(driver_rate_distribution_arr == 1)[1] + 1"
   ]
  },
  {
   "cell_type": "code",
   "execution_count": 18,
   "metadata": {},
   "outputs": [],
   "source": [
    "driver_feedback_categories_good = ['great service', 'nice car', 'wonderful companion', 'neat and tidy', 'expert navigation', 'recommend']\n",
    "driver_feedback_categories_bad = ['awful service', 'bad car', 'unpleasant companion', 'dirty', 'non-expert navigation', 'not recommend']"
   ]
  },
  {
   "cell_type": "code",
   "execution_count": 19,
   "metadata": {},
   "outputs": [],
   "source": [
    "category_driver_good_feedback_idx = np.random.choice(rides[rides.driver_rate > 3].index, size=int(NUM_RIDES*0.3*0.2))\n",
    "rides[\"category_driver_feedback\"][category_driver_good_feedback_idx] = np.random.choice(driver_feedback_categories_good, size=int(NUM_RIDES*0.3*0.2))\n",
    "\n",
    "category_driver_bad_feedback_idx = np.random.choice(rides[rides.driver_rate < 4].index, size=int(NUM_RIDES*0.3*0.2))\n",
    "rides[\"category_driver_feedback\"][category_driver_bad_feedback_idx] = np.random.choice(driver_feedback_categories_bad, size=int(NUM_RIDES*0.3*0.2))"
   ]
  },
  {
   "cell_type": "code",
   "execution_count": 20,
   "metadata": {},
   "outputs": [],
   "source": [
    "text_good_feedback_driver_length = np.random.randint(low=0, high=7, size=int(NUM_RIDES*0.3*0.2))\n",
    "text_good_feedback_driver_sample = [random.sample(driver_feedback_categories_good, i) for i in text_good_feedback_driver_length]\n",
    "rides['text_driver_feedback'][category_driver_good_feedback_idx] = text_good_feedback_driver_sample\n",
    "\n",
    "text_bad_feedback_driver_length = np.random.randint(low=0, high=7, size=int(NUM_RIDES*0.3*0.2))\n",
    "text_bad_feedback_driver_sample = [random.sample(driver_feedback_categories_bad, i) for i in text_bad_feedback_driver_length]\n",
    "rides['text_driver_feedback'][category_driver_bad_feedback_idx] = text_bad_feedback_driver_sample"
   ]
  },
  {
   "cell_type": "markdown",
   "metadata": {},
   "source": [
    "Clients rates"
   ]
  },
  {
   "cell_type": "code",
   "execution_count": 21,
   "metadata": {},
   "outputs": [],
   "source": [
    "client_rate_idx = np.random.randint(low=0, high=NUM_RIDES, size=int(NUM_RIDES*0.5))\n",
    "client_rate_distribution_arr = np.random.multinomial(1, [0.2, 0.05, 0.1, 0.25, 0.4], size=int(NUM_RIDES*0.5))\n",
    "rides['client_rate'][client_rate_idx] = np.where(client_rate_distribution_arr == 1)[1] + 1"
   ]
  },
  {
   "cell_type": "code",
   "execution_count": 22,
   "metadata": {},
   "outputs": [],
   "source": [
    "client_feedback_categories_good = ['polite', 'pleasant', 'quiet', 'neat and tidy', 'recommend']\n",
    "client_feedback_categories_bad = ['unpolite', 'unpleasant', 'loud', 'dirty','not recommend']"
   ]
  },
  {
   "cell_type": "code",
   "execution_count": 23,
   "metadata": {},
   "outputs": [],
   "source": [
    "category_client_good_feedback_idx = np.random.choice(rides[rides.client_rate > 3].index, size=int(NUM_RIDES*0.3*0.2))\n",
    "rides[\"category_client_feedback\"][category_client_good_feedback_idx] = np.random.choice(client_feedback_categories_good, size=int(NUM_RIDES*0.3*0.2))\n",
    "\n",
    "category_client_bad_feedback_idx = np.random.choice(rides[rides.client_rate < 4].index, size=int(NUM_RIDES*0.3*0.2))\n",
    "rides[\"category_client_feedback\"][category_client_bad_feedback_idx] = np.random.choice(client_feedback_categories_bad, size=int(NUM_RIDES*0.3*0.2))"
   ]
  },
  {
   "cell_type": "code",
   "execution_count": 24,
   "metadata": {},
   "outputs": [],
   "source": [
    "text_good_feedback_client_length = np.random.randint(low=0, high=6, size=int(NUM_RIDES*0.3*0.2))\n",
    "text_good_feedback_client_sample = [random.sample(client_feedback_categories_good, i) for i in text_good_feedback_client_length]\n",
    "rides['text_client_feedback'][category_client_good_feedback_idx] = text_good_feedback_client_sample\n",
    "\n",
    "text_bad_feedback_client_length = np.random.randint(low=0, high=6, size=int(NUM_RIDES*0.3*0.2))\n",
    "text_bad_feedback_client_sample = [random.sample(client_feedback_categories_good, i) for i in text_bad_feedback_client_length]\n",
    "rides['text_client_feedback'][category_client_good_feedback_idx] = text_bad_feedback_client_sample"
   ]
  },
  {
   "cell_type": "code",
   "execution_count": 25,
   "metadata": {},
   "outputs": [
    {
     "data": {
      "text/plain": "   driver_id  client_id     start  start_latitude  start_longtitude    finish  \\\n0        648       2870  SW15 2SJ       51.460424         -0.217948   SE9 5NU   \n1       2339       2457   W1M 1AE       51.517773         -0.155939    W2 6WA   \n2        141       3724   SW7 2AX       51.500505         -0.178219  SE15 1EE   \n3        476       2028   SW7 4AY       51.496342         -0.184623   UB2 4XX   \n4        334       2029  WC1E 7BP       51.517133         -0.134244   W1W 7DB   \n\n   finish_latitude  finish_longtitude  distance       road_time  \\\n0        51.442115           0.051031     18.81 0 days 00:25:00   \n1        51.516375          -0.175251      1.35 0 days 00:08:00   \n2        51.480964          -0.056682      8.72 0 days 00:15:00   \n3        51.507500          -0.378483     13.52 0 days 00:22:00   \n4        51.518094          -0.139797      0.40 0 days 00:12:00   \n\n           start_time         finish_time   cost driver_rate  \\\n0 2012-07-08 19:33:02 2012-07-08 19:58:02  17.11         NaN   \n1 2013-04-13 23:03:42 2013-04-13 23:11:42   3.48         NaN   \n2 2012-03-30 00:36:32 2012-03-30 00:51:32   8.27         NaN   \n3 2013-09-27 01:53:10 2013-09-27 02:15:10  11.39         NaN   \n4 2012-07-10 20:30:56 2012-07-10 20:42:56   2.20           4   \n\n  category_driver_feedback text_driver_feedback client_rate  \\\n0                      NaN                  NaN         NaN   \n1                      NaN                  NaN           2   \n2                      NaN                  NaN         NaN   \n3                      NaN                  NaN           3   \n4                      NaN                  NaN         NaN   \n\n  category_client_feedback text_client_feedback  \n0                      NaN                  NaN  \n1                      NaN                  NaN  \n2                      NaN                  NaN  \n3                      NaN                  NaN  \n4                      NaN                  NaN  ",
      "text/html": "<div>\n<style scoped>\n    .dataframe tbody tr th:only-of-type {\n        vertical-align: middle;\n    }\n\n    .dataframe tbody tr th {\n        vertical-align: top;\n    }\n\n    .dataframe thead th {\n        text-align: right;\n    }\n</style>\n<table border=\"1\" class=\"dataframe\">\n  <thead>\n    <tr style=\"text-align: right;\">\n      <th></th>\n      <th>driver_id</th>\n      <th>client_id</th>\n      <th>start</th>\n      <th>start_latitude</th>\n      <th>start_longtitude</th>\n      <th>finish</th>\n      <th>finish_latitude</th>\n      <th>finish_longtitude</th>\n      <th>distance</th>\n      <th>road_time</th>\n      <th>start_time</th>\n      <th>finish_time</th>\n      <th>cost</th>\n      <th>driver_rate</th>\n      <th>category_driver_feedback</th>\n      <th>text_driver_feedback</th>\n      <th>client_rate</th>\n      <th>category_client_feedback</th>\n      <th>text_client_feedback</th>\n    </tr>\n  </thead>\n  <tbody>\n    <tr>\n      <th>0</th>\n      <td>648</td>\n      <td>2870</td>\n      <td>SW15 2SJ</td>\n      <td>51.460424</td>\n      <td>-0.217948</td>\n      <td>SE9 5NU</td>\n      <td>51.442115</td>\n      <td>0.051031</td>\n      <td>18.81</td>\n      <td>0 days 00:25:00</td>\n      <td>2012-07-08 19:33:02</td>\n      <td>2012-07-08 19:58:02</td>\n      <td>17.11</td>\n      <td>NaN</td>\n      <td>NaN</td>\n      <td>NaN</td>\n      <td>NaN</td>\n      <td>NaN</td>\n      <td>NaN</td>\n    </tr>\n    <tr>\n      <th>1</th>\n      <td>2339</td>\n      <td>2457</td>\n      <td>W1M 1AE</td>\n      <td>51.517773</td>\n      <td>-0.155939</td>\n      <td>W2 6WA</td>\n      <td>51.516375</td>\n      <td>-0.175251</td>\n      <td>1.35</td>\n      <td>0 days 00:08:00</td>\n      <td>2013-04-13 23:03:42</td>\n      <td>2013-04-13 23:11:42</td>\n      <td>3.48</td>\n      <td>NaN</td>\n      <td>NaN</td>\n      <td>NaN</td>\n      <td>2</td>\n      <td>NaN</td>\n      <td>NaN</td>\n    </tr>\n    <tr>\n      <th>2</th>\n      <td>141</td>\n      <td>3724</td>\n      <td>SW7 2AX</td>\n      <td>51.500505</td>\n      <td>-0.178219</td>\n      <td>SE15 1EE</td>\n      <td>51.480964</td>\n      <td>-0.056682</td>\n      <td>8.72</td>\n      <td>0 days 00:15:00</td>\n      <td>2012-03-30 00:36:32</td>\n      <td>2012-03-30 00:51:32</td>\n      <td>8.27</td>\n      <td>NaN</td>\n      <td>NaN</td>\n      <td>NaN</td>\n      <td>NaN</td>\n      <td>NaN</td>\n      <td>NaN</td>\n    </tr>\n    <tr>\n      <th>3</th>\n      <td>476</td>\n      <td>2028</td>\n      <td>SW7 4AY</td>\n      <td>51.496342</td>\n      <td>-0.184623</td>\n      <td>UB2 4XX</td>\n      <td>51.507500</td>\n      <td>-0.378483</td>\n      <td>13.52</td>\n      <td>0 days 00:22:00</td>\n      <td>2013-09-27 01:53:10</td>\n      <td>2013-09-27 02:15:10</td>\n      <td>11.39</td>\n      <td>NaN</td>\n      <td>NaN</td>\n      <td>NaN</td>\n      <td>3</td>\n      <td>NaN</td>\n      <td>NaN</td>\n    </tr>\n    <tr>\n      <th>4</th>\n      <td>334</td>\n      <td>2029</td>\n      <td>WC1E 7BP</td>\n      <td>51.517133</td>\n      <td>-0.134244</td>\n      <td>W1W 7DB</td>\n      <td>51.518094</td>\n      <td>-0.139797</td>\n      <td>0.40</td>\n      <td>0 days 00:12:00</td>\n      <td>2012-07-10 20:30:56</td>\n      <td>2012-07-10 20:42:56</td>\n      <td>2.20</td>\n      <td>4</td>\n      <td>NaN</td>\n      <td>NaN</td>\n      <td>NaN</td>\n      <td>NaN</td>\n      <td>NaN</td>\n    </tr>\n  </tbody>\n</table>\n</div>"
     },
     "execution_count": 25,
     "metadata": {},
     "output_type": "execute_result"
    }
   ],
   "source": [
    "rides.head()"
   ]
  },
  {
   "cell_type": "code",
   "execution_count": 26,
   "metadata": {},
   "outputs": [],
   "source": [
    "rides.to_csv(\"rides.csv\")"
   ]
  }
 ],
 "metadata": {
  "kernelspec": {
   "display_name": "Python 3",
   "language": "python",
   "name": "python3"
  },
  "language_info": {
   "codemirror_mode": {
    "name": "ipython",
    "version": 3
   },
   "file_extension": ".py",
   "mimetype": "text/x-python",
   "name": "python",
   "nbconvert_exporter": "python",
   "pygments_lexer": "ipython3",
   "version": "3.7.8"
  }
 },
 "nbformat": 4,
 "nbformat_minor": 4
}
